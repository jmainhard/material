{
  "nbformat": 4,
  "nbformat_minor": 0,
  "metadata": {
    "colab": {
      "provenance": []
    },
    "kernelspec": {
      "name": "python3",
      "display_name": "Python 3"
    },
    "language_info": {
      "name": "python"
    }
  },
  "cells": [
    {
      "cell_type": "code",
      "execution_count": 1,
      "metadata": {
        "colab": {
          "base_uri": "https://localhost:8080/"
        },
        "id": "wfzG71xeAy1T",
        "outputId": "51f5a8af-11a2-4b7d-c95a-0498bec1cfcc"
      },
      "outputs": [
        {
          "output_type": "stream",
          "name": "stdout",
          "text": [
            "one\n",
            "two\n",
            "three\n"
          ]
        }
      ],
      "source": [
        "# 25 nov. 2022 Taller de programación ICC157\n",
        "# Diccionarios: almacenan un mapa de llaves a valores\n",
        "empty_dict = {}\n",
        "# Aquí hay un diccionario llenado previamente\n",
        "filled_dict = {\"one\": 1, \"two\": 2, \"three\": 3}\n",
        "\n",
        "# Las llaves de un diccionario deben ser sólo de algunos tipos: int, float, string\n",
        "valid_dict = {(1,2,3):[1,2,3]}   # Los valores pueden ser del tipo que sea\n",
        "\n",
        "# Busca valores por su llave con []\n",
        "filled_dict[\"one\"]  # => 1\n",
        "\n",
        "# Obten todas las llaves con \"keys()\"\n",
        "filled_dict.keys()\n",
        "\n",
        "# Podemos hacer un wrap del comando con la función list() para sacarlo del iterable\n",
        "list(filled_dict.keys())  # => [\"one\", \"two\", \"three\"]\n",
        "\n",
        "# Obten todos los valores como un iterable con \"values()\".\n",
        "filled_dict.values()\n",
        "\n",
        "list(filled_dict.values())  # => [1, 2, 3]\n",
        "\n",
        "# Comprueba la existencia de una clave con la palabra reservada \"in\"\n",
        "\"one\" in filled_dict  # => True\n",
        "1 in filled_dict      # => False\n",
        "\n",
        "# Recorre las llaves de un diccionario\n",
        "for i in filled_dict.keys():\n",
        "  print(i)"
      ]
    },
    {
      "cell_type": "code",
      "source": [],
      "metadata": {
        "id": "TS0Lk0FEH-n-"
      },
      "execution_count": null,
      "outputs": []
    },
    {
      "cell_type": "markdown",
      "source": [],
      "metadata": {
        "id": "ICBSPQNpH-7n"
      }
    }
  ]
}